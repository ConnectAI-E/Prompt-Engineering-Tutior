{
 "cells": [
  {
   "cell_type": "code",
   "execution_count": null,
   "metadata": {},
   "outputs": [],
   "source": [
    "import openai\n",
    "openai.api_key = \"sk-\""
   ]
  },
  {
   "cell_type": "code",
   "execution_count": null,
   "metadata": {},
   "outputs": [],
   "source": [
    "def get_completion(prompt, model=\"gpt-3.5-turbo\"):\n",
    "    messages = [{\"role\": \"user\", \"content\": prompt}]\n",
    "    response = openai.ChatCompletion.create(\n",
    "        model=model,\n",
    "        messages=messages,\n",
    "        temperature=0,  # this is the degree of randomness of the model's output\n",
    "    )\n",
    "    return response.choices[0].message[\"content\"]"
   ]
  },
  {
   "cell_type": "code",
   "execution_count": null,
   "metadata": {},
   "outputs": [],
   "source": [
    "prod_review = \"\"\"\n",
    "这个熊猫公仔是我给女儿的生日礼物，她很喜欢，去哪都带着。\n",
    "公仔很软，超级可爱，面部表情也很和善。但是相比于价钱来说，\n",
    "它有点小，我感觉在别的地方用同样的价钱能买到更大的。\n",
    "快递比预期提前了一天到货，所以在送给女儿之前，我自己玩了会。\n",
    "\"\"\""
   ]
  },
  {
   "cell_type": "code",
   "execution_count": null,
   "metadata": {},
   "outputs": [],
   "source": [
    "prompt = f\"\"\"\n",
    "你的任务是从电子商务网站上生成一个产品评论的简短摘要。\n",
    "\n",
    "请对三个反引号之间的评论文本进行概括，最多30个词汇。\n",
    "\n",
    "评论:  ```{prod_review}```\n",
    "\"\"\"\n",
    "\n",
    "response = get_completion(prompt)\n",
    "print(response)\n"
   ]
  },
  {
   "cell_type": "code",
   "execution_count": null,
   "metadata": {},
   "outputs": [],
   "source": [
    "prompt = f\"\"\"\n",
    "你的任务是从电子商务网站上生成一个产品评论的简短摘要。\n",
    "\n",
    "请对三个反引号之间的评论文本进行概括，最多30个词汇，并且聚焦在产品运输上。\n",
    "\n",
    "评论:  ```{prod_review}```\n",
    "\"\"\"\n",
    "\n",
    "response = get_completion(prompt)\n",
    "print(response)"
   ]
  },
  {
   "cell_type": "code",
   "execution_count": null,
   "metadata": {},
   "outputs": [],
   "source": [
    "prompt = f\"\"\"\n",
    "你的任务是从电子商务网站上生成一个产品评论的简短摘要。\n",
    "\n",
    "请对三个反引号之间的评论文本进行概括，最多30个词汇，并且聚焦在产品价格和质量上。\n",
    "\n",
    "评论: ```{prod_review}```\n",
    "\"\"\"\n",
    "\n",
    "response = get_completion(prompt)\n",
    "print(response)"
   ]
  },
  {
   "cell_type": "code",
   "execution_count": null,
   "metadata": {},
   "outputs": [],
   "source": [
    "prompt = f\"\"\"\n",
    "你的任务是从电子商务网站上的产品评论中提取相关信息。\n",
    "\n",
    "请从以下三个反引号之间的评论文本中提取产品运输相关的信息，最多30个词汇。\n",
    "\n",
    "评论:```{prod_review}```\n",
    "\"\"\"\n",
    "\n",
    "response = get_completion(prompt)\n",
    "print(response)"
   ]
  },
  {
   "cell_type": "code",
   "execution_count": null,
   "metadata": {},
   "outputs": [],
   "source": [
    "review_1 = prod_review \n",
    "\n",
    "# review for a standing lamp\n",
    "review_2 = \"\"\"\n",
    "我需要一盏漂亮的卧室灯，这款灯具不仅有额外的储物功能，价格也不算太高。我很快就收到了它，两天就到了。然而，在运输过程中，灯的拉线断了，但是公司很高兴地给我寄来了一根新的。新的拉线也在几天内到达。组装很容易。然后我发现有一个零件缺失，于是我联系了客服，他们很快就给我寄来了缺失的零件！对我来说，这是一家关心客户和产品的优秀公司。\n",
    "\"\"\"\n",
    "\n",
    "# review for an electric toothbrush\n",
    "review_3 = \"\"\"\n",
    "我的牙科卫生师推荐了一款电动牙刷，所以我买了这款。到目前为止，电池寿命似乎相当令人印象深刻。初始充电后，在第一周插上充电器使电池达到最佳状态后，我拔掉了充电器，并在过去的3周里每天两次刷牙，都是在同一次充电的情况下使用的。但是牙刷头太小了。我见过比这个还大的婴儿牙刷。我希望刷头更大一些，有不同长度的毛刷，能更好地清洁牙齿之间的间隙，因为这款牙刷做不到。总体而言，如果你能以50美元左右的价格购买到这款牙刷，那是个不错的交易。制造商的替换刷头相当昂贵，但你可以购买价格更合理的通用刷头。这款牙刷让我每天都感觉像去了牙医那样。我的牙齿感觉闪亮干净！ \n",
    "\"\"\"\n",
    "\n",
    "# review for a blender\n",
    "review_4 = \"\"\"\n",
    "所以，在11月份他们还在季节性促销中以约49美元的价格出售17件套装，打折了一半，但由于某种原因（可以称之为恶意涨价），到了12月的第二周，相同套装的价格都上涨了，大约在70-89美元之间。而11件套装的价格也比之前的促销价29美元上涨了大约10美元左右。外观看起来还可以，但如果你仔细看底座，刀片锁入的部分看起来没有几年前的旧款那么好，但我打算对它非常小心（例如，我先在搅拌机中将豆子、冰块、大米等非常硬的物品压碎，然后在搅拌机中将它们搅成所需的分量，然后切换到打蛋器刀片来制作更细的面粉，在制作冰沙时首先使用交叉切割刀片，如果需要更细腻/少果肉的话则使用平刀片）。制作冰沙时的特别提示是，将要使用的水果和蔬菜切碎并冷冻（如果使用菠菜-先轻炖煮软菠菜然后冷冻，准备使用时再取出-如果制作冰糕，使用一个小到中型食品加工机），这样你就可以避免在制作冰沙时添加太多冰块。大约一年后，电机发出奇怪的声音。我打电话给客户服务，但保修已经过期了，所以我不得不再买一个新的。顺便说一下：这类产品的整体质量下降了，所以他们在依赖品牌认可和消费者忠诚度来维持销售。大约两天后收到了货物。\n",
    "\"\"\"\n",
    "\n",
    "reviews = [review_1, review_2, review_3, review_4]"
   ]
  },
  {
   "cell_type": "code",
   "execution_count": null,
   "metadata": {},
   "outputs": [],
   "source": [
    "for i in range(len(reviews)):\n",
    "    prompt = f\"\"\"\n",
    "    你的任务是从电商网站上生成一个产品评论的简短摘要。\n",
    "\n",
    "    以下是要摘要的评论，用三个反引号括起来，并且摘要的字数不超过20个词。\n",
    "\n",
    "    评论: ```{reviews[i]}```\n",
    "    \"\"\"\n",
    "\n",
    "    response = get_completion(prompt)\n",
    "    print(i, response, \"\\n\")"
   ]
  }
 ],
 "metadata": {
  "kernelspec": {
   "display_name": "base",
   "language": "python",
   "name": "python3"
  },
  "language_info": {
   "name": "python",
   "version": "3.10.9"
  },
  "orig_nbformat": 4
 },
 "nbformat": 4,
 "nbformat_minor": 2
}
